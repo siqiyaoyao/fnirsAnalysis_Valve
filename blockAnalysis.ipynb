{
 "nbformat": 4,
 "nbformat_minor": 2,
 "metadata": {
  "language_info": {
   "name": "python",
   "codemirror_mode": {
    "name": "ipython",
    "version": 3
   },
   "version": "3.7.5"
  },
  "orig_nbformat": 2,
  "file_extension": ".py",
  "mimetype": "text/x-python",
  "name": "python",
  "npconvert_exporter": "python",
  "pygments_lexer": "ipython3",
  "version": 3
 },
 "cells": [
  {
   "cell_type": "code",
   "execution_count": 1,
   "metadata": {},
   "outputs": [],
   "source": [
    "import pandas as pd\n",
    "import matplotlib.pyplot as plt \n",
    "from scipy import stats\n",
    "import numpy as np"
   ]
  },
  {
   "cell_type": "code",
   "execution_count": 5,
   "metadata": {},
   "outputs": [
    {
     "name": "stdout",
     "output_type": "stream",
     "text": "./data/p0.csv\n"
    },
    {
     "data": {
      "text/html": "<div>\n<style scoped>\n    .dataframe tbody tr th:only-of-type {\n        vertical-align: middle;\n    }\n\n    .dataframe tbody tr th {\n        vertical-align: top;\n    }\n\n    .dataframe thead th {\n        text-align: right;\n    }\n</style>\n<table border=\"1\" class=\"dataframe\">\n  <thead>\n    <tr style=\"text-align: right;\">\n      <th></th>\n      <th>time</th>\n      <th>S1_D2_7.555000e+02nm</th>\n      <th>S3_D2_7.555000e+02nm</th>\n      <th>S4_D2_7.555000e+02nm</th>\n      <th>S7_D7_7.555000e+02nm</th>\n      <th>S8_D7_7.555000e+02nm</th>\n      <th>S10_D7_7.555000e+02nm</th>\n      <th>S1_D1_7.555000e+02nm</th>\n      <th>S2_D1_7.555000e+02nm</th>\n      <th>S3_D1_7.555000e+02nm</th>\n      <th>...</th>\n      <th>S9_D8_7.555000e+02nm</th>\n      <th>S7_D5_7.555000e+02nm</th>\n      <th>S6_D5_7.555000e+02nm</th>\n      <th>S8_D5_7.555000e+02nm</th>\n      <th>S2_D3_7.555000e+02nm</th>\n      <th>S3_D3_7.555000e+02nm</th>\n      <th>S5_D3_7.555000e+02nm</th>\n      <th>S6_D6_7.555000e+02nm</th>\n      <th>S8_D6_7.555000e+02nm</th>\n      <th>S9_D6_7.555000e+02nm</th>\n    </tr>\n  </thead>\n  <tbody>\n    <tr>\n      <th>count</th>\n      <td>16466.000000</td>\n      <td>16466.000000</td>\n      <td>16466.000000</td>\n      <td>16466.000000</td>\n      <td>16466.000000</td>\n      <td>16466.000000</td>\n      <td>16466.000000</td>\n      <td>16466.000000</td>\n      <td>16466.000000</td>\n      <td>16466.000000</td>\n      <td>...</td>\n      <td>16466.000000</td>\n      <td>16466.000000</td>\n      <td>16466.000000</td>\n      <td>16466.000000</td>\n      <td>16466.000000</td>\n      <td>16466.000000</td>\n      <td>16466.000000</td>\n      <td>16466.000000</td>\n      <td>16466.000000</td>\n      <td>16466.000000</td>\n    </tr>\n    <tr>\n      <th>mean</th>\n      <td>823.293453</td>\n      <td>-0.032669</td>\n      <td>-0.029628</td>\n      <td>-0.038133</td>\n      <td>-0.034734</td>\n      <td>-0.022782</td>\n      <td>-0.034356</td>\n      <td>-0.033902</td>\n      <td>-0.020889</td>\n      <td>-0.021634</td>\n      <td>...</td>\n      <td>-0.018200</td>\n      <td>-0.031310</td>\n      <td>-0.014812</td>\n      <td>-0.017939</td>\n      <td>-0.022007</td>\n      <td>-0.018475</td>\n      <td>-0.019878</td>\n      <td>-0.014193</td>\n      <td>-0.023987</td>\n      <td>-0.014837</td>\n    </tr>\n    <tr>\n      <th>std</th>\n      <td>475.352771</td>\n      <td>0.501266</td>\n      <td>0.459294</td>\n      <td>0.584961</td>\n      <td>0.533433</td>\n      <td>0.349352</td>\n      <td>0.526409</td>\n      <td>0.520137</td>\n      <td>0.321129</td>\n      <td>0.334535</td>\n      <td>...</td>\n      <td>0.280398</td>\n      <td>0.482513</td>\n      <td>0.235592</td>\n      <td>0.276699</td>\n      <td>0.338963</td>\n      <td>0.304068</td>\n      <td>0.311469</td>\n      <td>0.221308</td>\n      <td>0.394263</td>\n      <td>0.229831</td>\n    </tr>\n    <tr>\n      <th>min</th>\n      <td>0.000000</td>\n      <td>-9.040000</td>\n      <td>-8.210000</td>\n      <td>-10.600000</td>\n      <td>-9.610000</td>\n      <td>-6.280000</td>\n      <td>-9.490000</td>\n      <td>-9.370000</td>\n      <td>-5.770000</td>\n      <td>-5.980000</td>\n      <td>...</td>\n      <td>-5.040000</td>\n      <td>-8.680000</td>\n      <td>-4.080000</td>\n      <td>-4.940000</td>\n      <td>-6.080000</td>\n      <td>-5.140000</td>\n      <td>-5.480000</td>\n      <td>-3.930000</td>\n      <td>-6.630000</td>\n      <td>-4.140000</td>\n    </tr>\n    <tr>\n      <th>25%</th>\n      <td>412.000000</td>\n      <td>-0.014700</td>\n      <td>-0.010200</td>\n      <td>-0.013900</td>\n      <td>-0.017500</td>\n      <td>-0.017100</td>\n      <td>-0.021075</td>\n      <td>-0.013900</td>\n      <td>-0.014900</td>\n      <td>-0.008840</td>\n      <td>...</td>\n      <td>-0.015900</td>\n      <td>-0.017200</td>\n      <td>-0.024200</td>\n      <td>-0.013200</td>\n      <td>-0.014600</td>\n      <td>-0.024500</td>\n      <td>-0.026900</td>\n      <td>-0.023700</td>\n      <td>-0.056700</td>\n      <td>-0.018600</td>\n    </tr>\n    <tr>\n      <th>50%</th>\n      <td>823.000000</td>\n      <td>-0.000186</td>\n      <td>-0.000612</td>\n      <td>0.001160</td>\n      <td>0.002380</td>\n      <td>0.001465</td>\n      <td>0.000604</td>\n      <td>0.000904</td>\n      <td>-0.000600</td>\n      <td>0.000393</td>\n      <td>...</td>\n      <td>0.000541</td>\n      <td>0.000884</td>\n      <td>-0.000692</td>\n      <td>0.000466</td>\n      <td>-0.000992</td>\n      <td>-0.000403</td>\n      <td>-0.001385</td>\n      <td>0.000625</td>\n      <td>-0.001560</td>\n      <td>-0.001065</td>\n    </tr>\n    <tr>\n      <th>75%</th>\n      <td>1230.000000</td>\n      <td>0.013600</td>\n      <td>0.013200</td>\n      <td>0.013500</td>\n      <td>0.019800</td>\n      <td>0.018275</td>\n      <td>0.020000</td>\n      <td>0.014800</td>\n      <td>0.011500</td>\n      <td>0.010400</td>\n      <td>...</td>\n      <td>0.014600</td>\n      <td>0.017100</td>\n      <td>0.023300</td>\n      <td>0.012800</td>\n      <td>0.009978</td>\n      <td>0.031200</td>\n      <td>0.020900</td>\n      <td>0.023500</td>\n      <td>0.066000</td>\n      <td>0.016400</td>\n    </tr>\n    <tr>\n      <th>max</th>\n      <td>1650.000000</td>\n      <td>1.300000</td>\n      <td>1.200000</td>\n      <td>1.520000</td>\n      <td>1.380000</td>\n      <td>0.886000</td>\n      <td>1.330000</td>\n      <td>1.330000</td>\n      <td>0.837000</td>\n      <td>0.877000</td>\n      <td>...</td>\n      <td>0.752000</td>\n      <td>1.250000</td>\n      <td>0.608000</td>\n      <td>0.700000</td>\n      <td>0.890000</td>\n      <td>0.849000</td>\n      <td>0.788000</td>\n      <td>0.580000</td>\n      <td>0.954000</td>\n      <td>0.626000</td>\n    </tr>\n  </tbody>\n</table>\n<p>8 rows × 25 columns</p>\n</div>",
      "text/plain": "               time  S1_D2_7.555000e+02nm  S3_D2_7.555000e+02nm  \\\ncount  16466.000000          16466.000000          16466.000000   \nmean     823.293453             -0.032669             -0.029628   \nstd      475.352771              0.501266              0.459294   \nmin        0.000000             -9.040000             -8.210000   \n25%      412.000000             -0.014700             -0.010200   \n50%      823.000000             -0.000186             -0.000612   \n75%     1230.000000              0.013600              0.013200   \nmax     1650.000000              1.300000              1.200000   \n\n       S4_D2_7.555000e+02nm  S7_D7_7.555000e+02nm  S8_D7_7.555000e+02nm  \\\ncount          16466.000000          16466.000000          16466.000000   \nmean              -0.038133             -0.034734             -0.022782   \nstd                0.584961              0.533433              0.349352   \nmin              -10.600000             -9.610000             -6.280000   \n25%               -0.013900             -0.017500             -0.017100   \n50%                0.001160              0.002380              0.001465   \n75%                0.013500              0.019800              0.018275   \nmax                1.520000              1.380000              0.886000   \n\n       S10_D7_7.555000e+02nm  S1_D1_7.555000e+02nm  S2_D1_7.555000e+02nm  \\\ncount           16466.000000          16466.000000          16466.000000   \nmean               -0.034356             -0.033902             -0.020889   \nstd                 0.526409              0.520137              0.321129   \nmin                -9.490000             -9.370000             -5.770000   \n25%                -0.021075             -0.013900             -0.014900   \n50%                 0.000604              0.000904             -0.000600   \n75%                 0.020000              0.014800              0.011500   \nmax                 1.330000              1.330000              0.837000   \n\n       S3_D1_7.555000e+02nm  ...  S9_D8_7.555000e+02nm  S7_D5_7.555000e+02nm  \\\ncount          16466.000000  ...          16466.000000          16466.000000   \nmean              -0.021634  ...             -0.018200             -0.031310   \nstd                0.334535  ...              0.280398              0.482513   \nmin               -5.980000  ...             -5.040000             -8.680000   \n25%               -0.008840  ...             -0.015900             -0.017200   \n50%                0.000393  ...              0.000541              0.000884   \n75%                0.010400  ...              0.014600              0.017100   \nmax                0.877000  ...              0.752000              1.250000   \n\n       S6_D5_7.555000e+02nm  S8_D5_7.555000e+02nm  S2_D3_7.555000e+02nm  \\\ncount          16466.000000          16466.000000          16466.000000   \nmean              -0.014812             -0.017939             -0.022007   \nstd                0.235592              0.276699              0.338963   \nmin               -4.080000             -4.940000             -6.080000   \n25%               -0.024200             -0.013200             -0.014600   \n50%               -0.000692              0.000466             -0.000992   \n75%                0.023300              0.012800              0.009978   \nmax                0.608000              0.700000              0.890000   \n\n       S3_D3_7.555000e+02nm  S5_D3_7.555000e+02nm  S6_D6_7.555000e+02nm  \\\ncount          16466.000000          16466.000000          16466.000000   \nmean              -0.018475             -0.019878             -0.014193   \nstd                0.304068              0.311469              0.221308   \nmin               -5.140000             -5.480000             -3.930000   \n25%               -0.024500             -0.026900             -0.023700   \n50%               -0.000403             -0.001385              0.000625   \n75%                0.031200              0.020900              0.023500   \nmax                0.849000              0.788000              0.580000   \n\n       S8_D6_7.555000e+02nm  S9_D6_7.555000e+02nm  \ncount          16466.000000          16466.000000  \nmean              -0.023987             -0.014837  \nstd                0.394263              0.229831  \nmin               -6.630000             -4.140000  \n25%               -0.056700             -0.018600  \n50%               -0.001560             -0.001065  \n75%                0.066000              0.016400  \nmax                0.954000              0.626000  \n\n[8 rows x 25 columns]"
     },
     "execution_count": 5,
     "metadata": {},
     "output_type": "execute_result"
    }
   ],
   "source": [
    "### read data \n",
    "participant = 'p0'\n",
    "fileName = './data/'+ str(participant)+'.csv'\n",
    "rawdata = pd.read_csv(fileName, sep=\",\")\n",
    "rawdata.shape\n",
    "rawdata.describe() # simple describe like count, mean and std\n"
   ]
  },
  {
   "cell_type": "code",
   "execution_count": 35,
   "metadata": {},
   "outputs": [
    {
     "data": {
      "text/html": "<div>\n<style scoped>\n    .dataframe tbody tr th:only-of-type {\n        vertical-align: middle;\n    }\n\n    .dataframe tbody tr th {\n        vertical-align: top;\n    }\n\n    .dataframe thead th {\n        text-align: right;\n    }\n</style>\n<table border=\"1\" class=\"dataframe\">\n  <thead>\n    <tr style=\"text-align: right;\">\n      <th></th>\n      <th>time</th>\n      <th>S1_D2_</th>\n      <th>S3_D2_</th>\n      <th>S4_D2_</th>\n      <th>S7_D7_</th>\n      <th>S8_D7_</th>\n      <th>S10_D7</th>\n      <th>S1_D1_</th>\n      <th>S2_D1_</th>\n      <th>S3_D1_</th>\n      <th>...</th>\n      <th>S9_D8_</th>\n      <th>S7_D5_</th>\n      <th>S6_D5_</th>\n      <th>S8_D5_</th>\n      <th>S2_D3_</th>\n      <th>S3_D3_</th>\n      <th>S5_D3_</th>\n      <th>S6_D6_</th>\n      <th>S8_D6_</th>\n      <th>S9_D6_</th>\n    </tr>\n  </thead>\n  <tbody>\n    <tr>\n      <th>count</th>\n      <td>16466.000000</td>\n      <td>16466.000000</td>\n      <td>16466.000000</td>\n      <td>16466.000000</td>\n      <td>16466.000000</td>\n      <td>16466.000000</td>\n      <td>16466.000000</td>\n      <td>16466.000000</td>\n      <td>16466.000000</td>\n      <td>16466.000000</td>\n      <td>...</td>\n      <td>16466.000000</td>\n      <td>16466.000000</td>\n      <td>16466.000000</td>\n      <td>16466.000000</td>\n      <td>16466.000000</td>\n      <td>16466.000000</td>\n      <td>16466.000000</td>\n      <td>16466.000000</td>\n      <td>16466.000000</td>\n      <td>16466.000000</td>\n    </tr>\n    <tr>\n      <th>mean</th>\n      <td>823.293453</td>\n      <td>-0.032669</td>\n      <td>-0.029628</td>\n      <td>-0.038133</td>\n      <td>-0.034734</td>\n      <td>-0.022782</td>\n      <td>-0.034356</td>\n      <td>-0.033902</td>\n      <td>-0.020889</td>\n      <td>-0.021634</td>\n      <td>...</td>\n      <td>-0.018200</td>\n      <td>-0.031310</td>\n      <td>-0.014812</td>\n      <td>-0.017939</td>\n      <td>-0.022007</td>\n      <td>-0.018475</td>\n      <td>-0.019878</td>\n      <td>-0.014193</td>\n      <td>-0.023987</td>\n      <td>-0.014837</td>\n    </tr>\n    <tr>\n      <th>std</th>\n      <td>475.352771</td>\n      <td>0.501266</td>\n      <td>0.459294</td>\n      <td>0.584961</td>\n      <td>0.533433</td>\n      <td>0.349352</td>\n      <td>0.526409</td>\n      <td>0.520137</td>\n      <td>0.321129</td>\n      <td>0.334535</td>\n      <td>...</td>\n      <td>0.280398</td>\n      <td>0.482513</td>\n      <td>0.235592</td>\n      <td>0.276699</td>\n      <td>0.338963</td>\n      <td>0.304068</td>\n      <td>0.311469</td>\n      <td>0.221308</td>\n      <td>0.394263</td>\n      <td>0.229831</td>\n    </tr>\n    <tr>\n      <th>min</th>\n      <td>0.000000</td>\n      <td>-9.040000</td>\n      <td>-8.210000</td>\n      <td>-10.600000</td>\n      <td>-9.610000</td>\n      <td>-6.280000</td>\n      <td>-9.490000</td>\n      <td>-9.370000</td>\n      <td>-5.770000</td>\n      <td>-5.980000</td>\n      <td>...</td>\n      <td>-5.040000</td>\n      <td>-8.680000</td>\n      <td>-4.080000</td>\n      <td>-4.940000</td>\n      <td>-6.080000</td>\n      <td>-5.140000</td>\n      <td>-5.480000</td>\n      <td>-3.930000</td>\n      <td>-6.630000</td>\n      <td>-4.140000</td>\n    </tr>\n    <tr>\n      <th>25%</th>\n      <td>412.000000</td>\n      <td>-0.014700</td>\n      <td>-0.010200</td>\n      <td>-0.013900</td>\n      <td>-0.017500</td>\n      <td>-0.017100</td>\n      <td>-0.021075</td>\n      <td>-0.013900</td>\n      <td>-0.014900</td>\n      <td>-0.008840</td>\n      <td>...</td>\n      <td>-0.015900</td>\n      <td>-0.017200</td>\n      <td>-0.024200</td>\n      <td>-0.013200</td>\n      <td>-0.014600</td>\n      <td>-0.024500</td>\n      <td>-0.026900</td>\n      <td>-0.023700</td>\n      <td>-0.056700</td>\n      <td>-0.018600</td>\n    </tr>\n    <tr>\n      <th>50%</th>\n      <td>823.000000</td>\n      <td>-0.000186</td>\n      <td>-0.000612</td>\n      <td>0.001160</td>\n      <td>0.002380</td>\n      <td>0.001465</td>\n      <td>0.000604</td>\n      <td>0.000904</td>\n      <td>-0.000600</td>\n      <td>0.000393</td>\n      <td>...</td>\n      <td>0.000541</td>\n      <td>0.000884</td>\n      <td>-0.000692</td>\n      <td>0.000466</td>\n      <td>-0.000992</td>\n      <td>-0.000403</td>\n      <td>-0.001385</td>\n      <td>0.000625</td>\n      <td>-0.001560</td>\n      <td>-0.001065</td>\n    </tr>\n    <tr>\n      <th>75%</th>\n      <td>1230.000000</td>\n      <td>0.013600</td>\n      <td>0.013200</td>\n      <td>0.013500</td>\n      <td>0.019800</td>\n      <td>0.018275</td>\n      <td>0.020000</td>\n      <td>0.014800</td>\n      <td>0.011500</td>\n      <td>0.010400</td>\n      <td>...</td>\n      <td>0.014600</td>\n      <td>0.017100</td>\n      <td>0.023300</td>\n      <td>0.012800</td>\n      <td>0.009978</td>\n      <td>0.031200</td>\n      <td>0.020900</td>\n      <td>0.023500</td>\n      <td>0.066000</td>\n      <td>0.016400</td>\n    </tr>\n    <tr>\n      <th>max</th>\n      <td>1650.000000</td>\n      <td>1.300000</td>\n      <td>1.200000</td>\n      <td>1.520000</td>\n      <td>1.380000</td>\n      <td>0.886000</td>\n      <td>1.330000</td>\n      <td>1.330000</td>\n      <td>0.837000</td>\n      <td>0.877000</td>\n      <td>...</td>\n      <td>0.752000</td>\n      <td>1.250000</td>\n      <td>0.608000</td>\n      <td>0.700000</td>\n      <td>0.890000</td>\n      <td>0.849000</td>\n      <td>0.788000</td>\n      <td>0.580000</td>\n      <td>0.954000</td>\n      <td>0.626000</td>\n    </tr>\n  </tbody>\n</table>\n<p>8 rows × 25 columns</p>\n</div>",
      "text/plain": "               time        S1_D2_        S3_D2_        S4_D2_        S7_D7_  \\\ncount  16466.000000  16466.000000  16466.000000  16466.000000  16466.000000   \nmean     823.293453     -0.032669     -0.029628     -0.038133     -0.034734   \nstd      475.352771      0.501266      0.459294      0.584961      0.533433   \nmin        0.000000     -9.040000     -8.210000    -10.600000     -9.610000   \n25%      412.000000     -0.014700     -0.010200     -0.013900     -0.017500   \n50%      823.000000     -0.000186     -0.000612      0.001160      0.002380   \n75%     1230.000000      0.013600      0.013200      0.013500      0.019800   \nmax     1650.000000      1.300000      1.200000      1.520000      1.380000   \n\n             S8_D7_        S10_D7        S1_D1_        S2_D1_        S3_D1_  \\\ncount  16466.000000  16466.000000  16466.000000  16466.000000  16466.000000   \nmean      -0.022782     -0.034356     -0.033902     -0.020889     -0.021634   \nstd        0.349352      0.526409      0.520137      0.321129      0.334535   \nmin       -6.280000     -9.490000     -9.370000     -5.770000     -5.980000   \n25%       -0.017100     -0.021075     -0.013900     -0.014900     -0.008840   \n50%        0.001465      0.000604      0.000904     -0.000600      0.000393   \n75%        0.018275      0.020000      0.014800      0.011500      0.010400   \nmax        0.886000      1.330000      1.330000      0.837000      0.877000   \n\n       ...        S9_D8_        S7_D5_        S6_D5_        S8_D5_  \\\ncount  ...  16466.000000  16466.000000  16466.000000  16466.000000   \nmean   ...     -0.018200     -0.031310     -0.014812     -0.017939   \nstd    ...      0.280398      0.482513      0.235592      0.276699   \nmin    ...     -5.040000     -8.680000     -4.080000     -4.940000   \n25%    ...     -0.015900     -0.017200     -0.024200     -0.013200   \n50%    ...      0.000541      0.000884     -0.000692      0.000466   \n75%    ...      0.014600      0.017100      0.023300      0.012800   \nmax    ...      0.752000      1.250000      0.608000      0.700000   \n\n             S2_D3_        S3_D3_        S5_D3_        S6_D6_        S8_D6_  \\\ncount  16466.000000  16466.000000  16466.000000  16466.000000  16466.000000   \nmean      -0.022007     -0.018475     -0.019878     -0.014193     -0.023987   \nstd        0.338963      0.304068      0.311469      0.221308      0.394263   \nmin       -6.080000     -5.140000     -5.480000     -3.930000     -6.630000   \n25%       -0.014600     -0.024500     -0.026900     -0.023700     -0.056700   \n50%       -0.000992     -0.000403     -0.001385      0.000625     -0.001560   \n75%        0.009978      0.031200      0.020900      0.023500      0.066000   \nmax        0.890000      0.849000      0.788000      0.580000      0.954000   \n\n             S9_D6_  \ncount  16466.000000  \nmean      -0.014837  \nstd        0.229831  \nmin       -4.140000  \n25%       -0.018600  \n50%       -0.001065  \n75%        0.016400  \nmax        0.626000  \n\n[8 rows x 25 columns]"
     },
     "execution_count": 35,
     "metadata": {},
     "output_type": "execute_result"
    }
   ],
   "source": [
    "### rename column names \n",
    "titles = rawdata.columns\n",
    "for t in titles:\n",
    "    tempTile = t[0:6]\n",
    "    # print(tempTile)\n",
    "    rawdata.rename(columns={t:tempTile},inplace=True)\n",
    "rawdata.describe()"
   ]
  },
  {
   "cell_type": "code",
   "execution_count": 22,
   "metadata": {},
   "outputs": [
    {
     "data": {
      "text/html": "<div>\n<style scoped>\n    .dataframe tbody tr th:only-of-type {\n        vertical-align: middle;\n    }\n\n    .dataframe tbody tr th {\n        vertical-align: top;\n    }\n\n    .dataframe thead th {\n        text-align: right;\n    }\n</style>\n<table border=\"1\" class=\"dataframe\">\n  <thead>\n    <tr style=\"text-align: right;\">\n      <th></th>\n      <th>P</th>\n      <th>F1</th>\n      <th>F2</th>\n      <th>N1</th>\n      <th>N2</th>\n      <th>S1</th>\n      <th>S2</th>\n      <th>A1</th>\n      <th>A2</th>\n    </tr>\n  </thead>\n  <tbody>\n    <tr>\n      <th>0</th>\n      <td>0</td>\n      <td>196</td>\n      <td>383</td>\n      <td>1226</td>\n      <td>1639</td>\n      <td>974</td>\n      <td>1168</td>\n      <td>476</td>\n      <td>702</td>\n    </tr>\n    <tr>\n      <th>1</th>\n      <td>3</td>\n      <td>662</td>\n      <td>845</td>\n      <td>908</td>\n      <td>1854</td>\n      <td>2118</td>\n      <td>2303</td>\n      <td>2387</td>\n      <td>2732</td>\n    </tr>\n    <tr>\n      <th>2</th>\n      <td>4</td>\n      <td>631</td>\n      <td>815</td>\n      <td>1041</td>\n      <td>1731</td>\n      <td>1937</td>\n      <td>2119</td>\n      <td>2181</td>\n      <td>2745</td>\n    </tr>\n    <tr>\n      <th>3</th>\n      <td>6</td>\n      <td>808</td>\n      <td>986</td>\n      <td>1060</td>\n      <td>1576</td>\n      <td>1754</td>\n      <td>1937</td>\n      <td>1974</td>\n      <td>2474</td>\n    </tr>\n    <tr>\n      <th>4</th>\n      <td>7</td>\n      <td>445</td>\n      <td>627</td>\n      <td>800</td>\n      <td>1352</td>\n      <td>1631</td>\n      <td>1817</td>\n      <td>1865</td>\n      <td>2129</td>\n    </tr>\n  </tbody>\n</table>\n</div>",
      "text/plain": "   P   F1   F2    N1    N2    S1    S2    A1    A2\n0  0  196  383  1226  1639   974  1168   476   702\n1  3  662  845   908  1854  2118  2303  2387  2732\n2  4  631  815  1041  1731  1937  2119  2181  2745\n3  6  808  986  1060  1576  1754  1937  1974  2474\n4  7  445  627   800  1352  1631  1817  1865  2129"
     },
     "execution_count": 22,
     "metadata": {},
     "output_type": "execute_result"
    }
   ],
   "source": [
    "### read labels \n",
    "labels = []\n",
    "labelFile = './data/labels_v1.csv'\n",
    "labelData = pd.read_csv(labelFile, sep=\",\")\n",
    "labelData.head()"
   ]
  },
  {
   "cell_type": "code",
   "execution_count": 23,
   "metadata": {},
   "outputs": [
    {
     "name": "stdout",
     "output_type": "stream",
     "text": "P        0\nF1     196\nF2     383\nN1    1226\nN2    1639\nS1     974\nS2    1168\nA1     476\nA2     702\nName: 0, dtype: int64\n"
    }
   ],
   "source": [
    "### read row from labels \n",
    "singleLabel = labelData.loc[0]\n",
    "print(singleLabel)"
   ]
  },
  {
   "cell_type": "code",
   "execution_count": 24,
   "metadata": {},
   "outputs": [],
   "source": [
    "L1_start = singleLabel['F1']\n",
    "L1_end = singleLabel['F2']\n",
    "L2_start = singleLabel['S1']\n",
    "L2_end = singleLabel['S2']\n",
    "N_start = singleLabel['N1']\n",
    "N_end = singleLabel['N2']\n",
    "A_start = singleLabel['A1']\n",
    "A_end = singleLabel['A2']\n"
   ]
  },
  {
   "cell_type": "code",
   "execution_count": 37,
   "metadata": {},
   "outputs": [
    {
     "name": "stdout",
     "output_type": "stream",
     "text": "time  S1_D2_7.555000e+02nm  S3_D2_7.555000e+02nm  \\\ncount  187.00000            187.000000            187.000000   \nmean    28.90000              1.007339              0.920264   \nstd      5.41264              0.330921              0.304064   \nmin     19.60000              0.039900              0.034900   \n25%     24.25000              0.896500              0.809500   \n50%     28.90000              1.140000              1.020000   \n75%     33.55000              1.250000              1.160000   \nmax     38.20000              1.300000              1.200000   \n\n       S4_D2_7.555000e+02nm  S7_D7_7.555000e+02nm  S8_D7_7.555000e+02nm  \\\ncount            187.000000            187.000000            187.000000   \nmean               1.179213              1.076130              0.692092   \nstd                0.390138              0.358899              0.230442   \nmin                0.040500              0.001130              0.037200   \n25%                1.050000              0.970500              0.620000   \n50%                1.330000              1.220000              0.796000   \n75%                1.470000              1.340000              0.856000   \nmax                1.520000              1.380000              0.886000   \n\n       S10_D7_7.555000e+02nm  S1_D1_7.555000e+02nm  S2_D1_7.555000e+02nm  \\\ncount              187.00000            187.000000            187.000000   \nmean                 1.04503              1.041570              0.650903   \nstd                  0.34959              0.338797              0.204952   \nmin                  0.03380              0.039900              0.079300   \n25%                  0.93200              0.926000              0.577500   \n50%                  1.21000              1.190000              0.728000   \n75%                  1.29000              1.290000              0.804000   \nmax                  1.33000              1.330000              0.837000   \n\n       S3_D1_7.555000e+02nm  ...  S9_D8_7.555000e+02nm  S7_D5_7.555000e+02nm  \\\ncount            187.000000  ...            187.000000            187.000000   \nmean               0.676184  ...              0.572761              0.974043   \nstd                0.225863  ...              0.193132              0.319125   \nmin                0.030400  ...              0.055100              0.039500   \n25%                0.601000  ...              0.509500              0.880500   \n50%                0.758000  ...              0.631000              1.100000   \n75%                0.847500  ...              0.727000              1.210000   \nmax                0.877000  ...              0.752000              1.250000   \n\n       S6_D5_7.555000e+02nm  S8_D5_7.555000e+02nm  S2_D3_7.555000e+02nm  \\\ncount            187.000000            187.000000            187.000000   \nmean               0.455511              0.547653              0.687222   \nstd                0.157017              0.181812              0.223951   \nmin                0.027400              0.030800              0.070600   \n25%                0.395000              0.492000              0.606500   \n50%                0.503000              0.629000              0.770000   \n75%                0.583500              0.682000              0.859500   \nmax                0.608000              0.700000              0.890000   \n\n       S3_D3_7.555000e+02nm  S5_D3_7.555000e+02nm  S6_D6_7.555000e+02nm  \\\ncount            187.000000            187.000000             187.00000   \nmean               0.579161              0.614123               0.43362   \nstd                0.207241              0.191900               0.15411   \nmin               -0.026700              0.103000               0.00950   \n25%                0.518000              0.544500               0.37500   \n50%                0.653000              0.689000               0.49900   \n75%                0.739000              0.761500               0.54750   \nmax                0.769000              0.788000               0.58000   \n\n       S8_D6_7.555000e+02nm  S9_D6_7.555000e+02nm  \ncount            187.000000            187.000000  \nmean               0.728634              0.474772  \nstd                0.238685              0.155682  \nmin               -0.060600              0.072200  \n25%                0.634000              0.410000  \n50%                0.845000              0.514000  \n75%                0.883000              0.606000  \nmax                0.954000              0.626000  \n\n[8 rows x 25 columns]\n"
    }
   ],
   "source": [
    "\n",
    "c = [] # whole data\n",
    "data = rawdata\n",
    "segs.append(rawdata.loc[range(L1_start,L1_end)])  # learning 1\n",
    "segs.append(rawdata.loc[range(L2_start,L2_end)])  # learning 2\n",
    "segs.append(rawdata.loc[range(N_start,N_end)])  # Non\n",
    "segs.append(rawdata.loc[range(A_start ,A_end)])\n",
    "# print(rawdata.describe())\n",
    "print(segs[0].describe())\n",
    "\n"
   ]
  },
  {
   "cell_type": "code",
   "execution_count": 26,
   "metadata": {},
   "outputs": [],
   "source": [
    "### remove outliner \n",
    "fsegs = []\n",
    "\n",
    "for k in range(0,4):\n",
    "    tempSegs = segs[k][(np.abs(stats.zscore(segs[k])) < 3).all(axis=1)]\n",
    "    fsegs.append(tempSegs)\n",
    "\n"
   ]
  },
  {
   "cell_type": "code",
   "execution_count": 29,
   "metadata": {},
   "outputs": [
    {
     "data": {
      "text/html": "<div>\n<style scoped>\n    .dataframe tbody tr th:only-of-type {\n        vertical-align: middle;\n    }\n\n    .dataframe tbody tr th {\n        vertical-align: top;\n    }\n\n    .dataframe thead th {\n        text-align: right;\n    }\n</style>\n<table border=\"1\" class=\"dataframe\">\n  <thead>\n    <tr style=\"text-align: right;\">\n      <th></th>\n      <th>time</th>\n      <th>S1_D2_7.555000e+02nm</th>\n      <th>S3_D2_7.555000e+02nm</th>\n      <th>S4_D2_7.555000e+02nm</th>\n      <th>S7_D7_7.555000e+02nm</th>\n      <th>S8_D7_7.555000e+02nm</th>\n      <th>S10_D7_7.555000e+02nm</th>\n      <th>S1_D1_7.555000e+02nm</th>\n      <th>S2_D1_7.555000e+02nm</th>\n      <th>S3_D1_7.555000e+02nm</th>\n      <th>...</th>\n      <th>S9_D8_7.555000e+02nm</th>\n      <th>S7_D5_7.555000e+02nm</th>\n      <th>S6_D5_7.555000e+02nm</th>\n      <th>S8_D5_7.555000e+02nm</th>\n      <th>S2_D3_7.555000e+02nm</th>\n      <th>S3_D3_7.555000e+02nm</th>\n      <th>S5_D3_7.555000e+02nm</th>\n      <th>S6_D6_7.555000e+02nm</th>\n      <th>S8_D6_7.555000e+02nm</th>\n      <th>S9_D6_7.555000e+02nm</th>\n    </tr>\n  </thead>\n  <tbody>\n    <tr>\n      <th>1226</th>\n      <td>123.0</td>\n      <td>-0.0488</td>\n      <td>-0.0343</td>\n      <td>-0.0533</td>\n      <td>-0.0481</td>\n      <td>-0.0355</td>\n      <td>-0.0690</td>\n      <td>-0.0661</td>\n      <td>-0.0416</td>\n      <td>-0.0110</td>\n      <td>...</td>\n      <td>-0.006150</td>\n      <td>-0.0302</td>\n      <td>0.00670</td>\n      <td>-0.0217</td>\n      <td>-0.02860</td>\n      <td>0.01960</td>\n      <td>-0.02150</td>\n      <td>-0.00590</td>\n      <td>-0.133</td>\n      <td>-0.008160</td>\n    </tr>\n    <tr>\n      <th>1227</th>\n      <td>123.0</td>\n      <td>-0.0470</td>\n      <td>-0.0397</td>\n      <td>-0.0566</td>\n      <td>-0.0543</td>\n      <td>-0.0364</td>\n      <td>-0.0690</td>\n      <td>-0.0667</td>\n      <td>-0.0395</td>\n      <td>-0.0142</td>\n      <td>...</td>\n      <td>-0.003860</td>\n      <td>-0.0307</td>\n      <td>0.00743</td>\n      <td>-0.0235</td>\n      <td>-0.02500</td>\n      <td>0.00933</td>\n      <td>-0.01830</td>\n      <td>-0.00625</td>\n      <td>-0.148</td>\n      <td>-0.006170</td>\n    </tr>\n    <tr>\n      <th>1228</th>\n      <td>123.0</td>\n      <td>-0.0441</td>\n      <td>-0.0462</td>\n      <td>-0.0601</td>\n      <td>-0.0602</td>\n      <td>-0.0374</td>\n      <td>-0.0693</td>\n      <td>-0.0662</td>\n      <td>-0.0363</td>\n      <td>-0.0182</td>\n      <td>...</td>\n      <td>-0.001520</td>\n      <td>-0.0316</td>\n      <td>0.00823</td>\n      <td>-0.0252</td>\n      <td>-0.02030</td>\n      <td>-0.00442</td>\n      <td>-0.01400</td>\n      <td>-0.00584</td>\n      <td>-0.163</td>\n      <td>-0.003250</td>\n    </tr>\n    <tr>\n      <th>1229</th>\n      <td>123.0</td>\n      <td>-0.0401</td>\n      <td>-0.0538</td>\n      <td>-0.0637</td>\n      <td>-0.0656</td>\n      <td>-0.0387</td>\n      <td>-0.0699</td>\n      <td>-0.0644</td>\n      <td>-0.0319</td>\n      <td>-0.0233</td>\n      <td>...</td>\n      <td>0.000724</td>\n      <td>-0.0329</td>\n      <td>0.00909</td>\n      <td>-0.0269</td>\n      <td>-0.01470</td>\n      <td>-0.02190</td>\n      <td>-0.00868</td>\n      <td>-0.00480</td>\n      <td>-0.177</td>\n      <td>0.000426</td>\n    </tr>\n    <tr>\n      <th>1230</th>\n      <td>123.0</td>\n      <td>-0.0349</td>\n      <td>-0.0623</td>\n      <td>-0.0674</td>\n      <td>-0.0704</td>\n      <td>-0.0402</td>\n      <td>-0.0708</td>\n      <td>-0.0613</td>\n      <td>-0.0263</td>\n      <td>-0.0293</td>\n      <td>...</td>\n      <td>0.002750</td>\n      <td>-0.0345</td>\n      <td>0.01000</td>\n      <td>-0.0285</td>\n      <td>-0.00812</td>\n      <td>-0.04310</td>\n      <td>-0.00238</td>\n      <td>-0.00329</td>\n      <td>-0.189</td>\n      <td>0.004630</td>\n    </tr>\n  </tbody>\n</table>\n<p>5 rows × 25 columns</p>\n</div>",
      "text/plain": "       time  S1_D2_7.555000e+02nm  S3_D2_7.555000e+02nm  S4_D2_7.555000e+02nm  \\\n1226  123.0               -0.0488               -0.0343               -0.0533   \n1227  123.0               -0.0470               -0.0397               -0.0566   \n1228  123.0               -0.0441               -0.0462               -0.0601   \n1229  123.0               -0.0401               -0.0538               -0.0637   \n1230  123.0               -0.0349               -0.0623               -0.0674   \n\n      S7_D7_7.555000e+02nm  S8_D7_7.555000e+02nm  S10_D7_7.555000e+02nm  \\\n1226               -0.0481               -0.0355                -0.0690   \n1227               -0.0543               -0.0364                -0.0690   \n1228               -0.0602               -0.0374                -0.0693   \n1229               -0.0656               -0.0387                -0.0699   \n1230               -0.0704               -0.0402                -0.0708   \n\n      S1_D1_7.555000e+02nm  S2_D1_7.555000e+02nm  S3_D1_7.555000e+02nm  ...  \\\n1226               -0.0661               -0.0416               -0.0110  ...   \n1227               -0.0667               -0.0395               -0.0142  ...   \n1228               -0.0662               -0.0363               -0.0182  ...   \n1229               -0.0644               -0.0319               -0.0233  ...   \n1230               -0.0613               -0.0263               -0.0293  ...   \n\n      S9_D8_7.555000e+02nm  S7_D5_7.555000e+02nm  S6_D5_7.555000e+02nm  \\\n1226             -0.006150               -0.0302               0.00670   \n1227             -0.003860               -0.0307               0.00743   \n1228             -0.001520               -0.0316               0.00823   \n1229              0.000724               -0.0329               0.00909   \n1230              0.002750               -0.0345               0.01000   \n\n      S8_D5_7.555000e+02nm  S2_D3_7.555000e+02nm  S3_D3_7.555000e+02nm  \\\n1226               -0.0217              -0.02860               0.01960   \n1227               -0.0235              -0.02500               0.00933   \n1228               -0.0252              -0.02030              -0.00442   \n1229               -0.0269              -0.01470              -0.02190   \n1230               -0.0285              -0.00812              -0.04310   \n\n      S5_D3_7.555000e+02nm  S6_D6_7.555000e+02nm  S8_D6_7.555000e+02nm  \\\n1226              -0.02150              -0.00590                -0.133   \n1227              -0.01830              -0.00625                -0.148   \n1228              -0.01400              -0.00584                -0.163   \n1229              -0.00868              -0.00480                -0.177   \n1230              -0.00238              -0.00329                -0.189   \n\n      S9_D6_7.555000e+02nm  \n1226             -0.008160  \n1227             -0.006170  \n1228             -0.003250  \n1229              0.000426  \n1230              0.004630  \n\n[5 rows x 25 columns]"
     },
     "execution_count": 29,
     "metadata": {},
     "output_type": "execute_result"
    }
   ],
   "source": [
    "### plot \n",
    "segs[2].head()\n",
    "# fsegs[2]['S1_D2_'].plot"
   ]
  },
  {
   "cell_type": "code",
   "execution_count": null,
   "metadata": {},
   "outputs": [],
   "source": []
  }
 ]
}